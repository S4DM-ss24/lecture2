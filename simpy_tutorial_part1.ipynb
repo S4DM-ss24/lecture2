{
 "cells": [
  {
   "cell_type": "markdown",
   "id": "41b32a16",
   "metadata": {
    "slideshow": {
     "slide_type": "slide"
    }
   },
   "source": [
    "<div class='bar_title'></div>\n",
    "\n",
    "*Simulation for Decision Making (S4DM)*\n",
    "\n",
    "# Introduction to Simulation with Python (Part 1)\n",
    "\n",
    "Gunther Gust & Ignacio Ubeda <br>\n",
    "Chair for Enterprise AI <br>\n",
    "Data Driven Decisions Group <br>\n",
    "Center for Artificial Intelligence and Data Science (CAIDAS)\n"
   ]
  },
  {
   "cell_type": "markdown",
   "id": "8a861327",
   "metadata": {},
   "source": [
    "<img src=\"images/d3.png\" style=\"width:20%; float:left;\" />"
   ]
  },
  {
   "cell_type": "markdown",
   "id": "6c037e34",
   "metadata": {},
   "source": [
    "<img src=\"images/CAIDASlogo.png\" style=\"width:20%; float:left;\" />"
   ]
  },
  {
   "cell_type": "markdown",
   "id": "503ffccc",
   "metadata": {
    "slideshow": {
     "slide_type": "slide"
    }
   },
   "source": [
    "# Agenda\n",
    "\n",
    "* Introduction to Simpy\n",
    "* Simpy basics\n",
    "* Process interactions\n",
    "* Shared resources\n",
    "\n",
    "Credits: The following content is adapted from the official [Simpy documentation](https://simpy.readthedocs.io/en/latest/simpy_intro/index.html) "
   ]
  },
  {
   "cell_type": "code",
   "execution_count": 1,
   "id": "2c64f178",
   "metadata": {
    "slideshow": {
     "slide_type": "fragment"
    }
   },
   "outputs": [],
   "source": [
    "import simpy"
   ]
  },
  {
   "cell_type": "markdown",
   "id": "79e70f2a",
   "metadata": {
    "slideshow": {
     "slide_type": "slide"
    }
   },
   "source": [
    "## Basic Concepts\n",
    "\n",
    "SimPy is a discrete-event simulation library for prorgamming simulation models with Python. \n"
   ]
  },
  {
   "cell_type": "markdown",
   "id": "11fb71bf",
   "metadata": {
    "slideshow": {
     "slide_type": "fragment"
    }
   },
   "source": [
    "The behavior of active components (like vehicles, customers or messages) is modeled with __processes.__ All processes live in an __environment.__ They interact with the environment and with each other via __events.__"
   ]
  },
  {
   "cell_type": "markdown",
   "id": "d875a122",
   "metadata": {
    "slideshow": {
     "slide_type": "slide"
    }
   },
   "source": [
    "**Our First Process**\n",
    "\n",
    "Our first example will be a process for a car. The car will alternately drive and park for a while. When it starts driving (or parking), it will print the current simulation time."
   ]
  },
  {
   "cell_type": "code",
   "execution_count": 28,
   "id": "b7a7e3c4",
   "metadata": {
    "slideshow": {
     "slide_type": "fragment"
    }
   },
   "outputs": [],
   "source": [
    "parking_duration = 5\n",
    "trip_duration = 2\n",
    "\n",
    "def park_and_drive(env):\n",
    "    while True:\n",
    "        print('Car starts parking at %d' % env.now)\n",
    "        yield env.timeout(parking_duration)\n",
    "\n",
    "        print('Car starts driving at %d' % env.now)\n",
    "        yield env.timeout(trip_duration)"
   ]
  },
  {
   "cell_type": "markdown",
   "id": "e62eb33a",
   "metadata": {
    "slideshow": {
     "slide_type": "skip"
    }
   },
   "source": [
    "Processes are described by Python __generators__: \n",
    "\n",
    "*  __Conceptually:__ Imagine you're in a large library, looking for books on a very specific topic. Instead of bringing you the entire section at once, which could be overwhelming and unnecessary, a helpful librarian brings you one book at a time. You can look through each book, decide if it's what you need, and only when you're ready, ask for the next one. This way, you don't have to deal with more books than you can handle at one time, and the library doesn't need to allocate space and resources to deliver all the books to you at once. \n",
    "In programming, especially with Python, a generator works somewhat like this helpful librarian. A generator is a special kind of function that, instead of returning all the results at once (like bringing the whole section of books to you), yields one result at a time, pausing in between each until the next result is requested.\n"
   ]
  },
  {
   "cell_type": "markdown",
   "id": "e72d2537",
   "metadata": {
    "slideshow": {
     "slide_type": "skip"
    }
   },
   "source": [
    "* __Syntactically:__ The syntax of a Python generator is quite straightforward and elegant, once you get the hang of it. To define a generator, you typically use a function just like you would for any other operation in Python. However, the key difference lies in how the function yields its result. Instead of returning a value with the `return` keyword and ending the function, a generator function uses the `yield` keyword to provide a value to the caller and then pauses its execution, maintaining its state for the next time it's called."
   ]
  },
  {
   "cell_type": "markdown",
   "id": "a953c781",
   "metadata": {
    "slideshow": {
     "slide_type": "skip"
    }
   },
   "source": [
    "In simpy, you can call them __process function__ (or process method, depending on whether it is a normal function or method of a class). During their lifetime, they \n",
    "\n",
    "* __create events__ \n",
    "* and __yield them__\n",
    "* and then __wait__ for them to be triggered."
   ]
  },
  {
   "cell_type": "markdown",
   "id": "67970fa7",
   "metadata": {
    "slideshow": {
     "slide_type": "skip"
    }
   },
   "source": [
    "When a process __yields an event,__ the process gets suspended. SimPy resumes the process, when the event occurs (we say that the event is triggered). Multiple processes can wait for the same event. SimPy resumes them in the same order in which they yielded that event.\n"
   ]
  },
  {
   "cell_type": "markdown",
   "id": "4cba8704",
   "metadata": {
    "slideshow": {
     "slide_type": "skip"
    }
   },
   "source": [
    "An important event type is the __Timeout.__ Events of this type are triggered after a certain amount of (simulated) time has passed. They allow a process to sleep (or hold its state) for the given time. A Timeout and all other events can be created by calling the appropriate method of the Environment that the process lives in (`Environment.timeout()` for example)."
   ]
  },
  {
   "cell_type": "markdown",
   "id": "e4d0e4e4",
   "metadata": {
    "slideshow": {
     "slide_type": "skip"
    }
   },
   "source": [
    "Our car process requires a reference to an Environment (env) in order to create new events. The car’s behavior is described in an infinite loop. Remember, this function is a generator. Though it will never terminate, it will pass the control flow back to the simulation once a yield statement is reached. Once the yielded event is triggered (“it occurs”), the simulation will resume the function at this statement."
   ]
  },
  {
   "cell_type": "markdown",
   "id": "674b29ce",
   "metadata": {
    "slideshow": {
     "slide_type": "skip"
    }
   },
   "source": [
    "As I said before, our car switches between the states parking and driving. It announces its new state by printing a message and the current simulation time (as returned by the Environment.now property). It then calls the Environment.timeout() factory function to create a Timeout event. This event describes the point in time the car is done parking (or driving, respectively). By yielding the event, it signals the simulation that it wants to wait for the event to occur.\n"
   ]
  },
  {
   "cell_type": "markdown",
   "id": "d72b0c6b",
   "metadata": {
    "slideshow": {
     "slide_type": "slide"
    }
   },
   "source": [
    "Now that the behavior of our car has been modeled, lets create an instance of it and see how it behaves:"
   ]
  },
  {
   "cell_type": "code",
   "execution_count": 29,
   "id": "369c08be",
   "metadata": {
    "slideshow": {
     "slide_type": "fragment"
    }
   },
   "outputs": [
    {
     "data": {
      "text/plain": [
       "<Process(park_and_drive) object at 0x25bfdd8e5e0>"
      ]
     },
     "execution_count": 29,
     "metadata": {},
     "output_type": "execute_result"
    }
   ],
   "source": [
    "env = simpy.Environment() #create environment\n",
    "env.process(park_and_drive(env)) #add the \"park_and_drive\" process to the environment"
   ]
  },
  {
   "cell_type": "markdown",
   "id": "6ba4de72",
   "metadata": {
    "slideshow": {
     "slide_type": "skip"
    }
   },
   "source": [
    "The first thing we need to do is to create an instance of Environment. This instance is passed into our car process function. Calling it creates a process generator that needs to be started and added to the environment via Environment.process(). Note, that at this time, none of the code of our process function is being executed. Its execution is merely scheduled at the current simulation time."
   ]
  },
  {
   "cell_type": "markdown",
   "id": "b5ba2485",
   "metadata": {
    "slideshow": {
     "slide_type": "skip"
    }
   },
   "source": [
    "The Process returned by process() can be used for process interactions (we will cover that in the next section, so we will ignore it for now)."
   ]
  },
  {
   "cell_type": "markdown",
   "id": "4087a3a1",
   "metadata": {
    "slideshow": {
     "slide_type": "fragment"
    }
   },
   "source": [
    "Finally, we start the simulation by calling run() and passing an end time to it:"
   ]
  },
  {
   "cell_type": "code",
   "execution_count": 30,
   "id": "59f7d208",
   "metadata": {
    "scrolled": true,
    "slideshow": {
     "slide_type": "fragment"
    }
   },
   "outputs": [
    {
     "name": "stdout",
     "output_type": "stream",
     "text": [
      "Car starts parking at 0\n",
      "Car starts driving at 5\n",
      "Car starts parking at 7\n",
      "Car starts driving at 12\n",
      "Car starts parking at 14\n",
      "Car starts driving at 19\n",
      "Car starts parking at 21\n",
      "Car starts driving at 26\n",
      "Car starts parking at 28\n"
     ]
    }
   ],
   "source": [
    "env.run(until=30)"
   ]
  },
  {
   "cell_type": "markdown",
   "id": "f8c5c4cc",
   "metadata": {
    "slideshow": {
     "slide_type": "slide"
    }
   },
   "source": [
    "__Control questions (now it's your turn):__\n",
    "* Alter the timespan of the simulation to 60 timesteps and run it.\n",
    "* Alter the parking duration of the car to 10 timesteps and the driving duration to 1 timestep.\n",
    "* Run a simulation with two (identical) cars.\n",
    "* Create a second process named \"truck_park_and_drive\". Since a truck is slower, both its driving and parking durations should be larger than the ones of the car. Then, run a simulation that contains both a truck and a car.  "
   ]
  },
  {
   "cell_type": "markdown",
   "id": "ad26430a",
   "metadata": {
    "slideshow": {
     "slide_type": "slide"
    }
   },
   "source": [
    "## Process Interaction"
   ]
  },
  {
   "cell_type": "markdown",
   "id": "1d707501",
   "metadata": {
    "slideshow": {
     "slide_type": "fragment"
    }
   },
   "source": [
    "The Process instance that is returned by Environment.process() can be utilized for process interactions. The two most common examples for this are to **wait for another process to finish** and to **interrupt another process** while it is waiting for an event."
   ]
  },
  {
   "cell_type": "markdown",
   "id": "e7b4dd65",
   "metadata": {
    "slideshow": {
     "slide_type": "slide"
    }
   },
   "source": [
    "**Waiting for a Process**\n",
    "\n",
    "As it happens, a SimPy Process can be used like an event (technically, a process actually is an event). If you yield a process (behind the `yield` statement), you are resumed once the process has finished. \n",
    "* Imagine a car-wash simulation where cars enter the car-wash and wait for the washing process to finish. \n",
    "* Or an airport simulation where passengers have to wait until a security check finishes.\n"
   ]
  },
  {
   "cell_type": "markdown",
   "id": "86cf3316",
   "metadata": {
    "slideshow": {
     "slide_type": "slide"
    }
   },
   "source": [
    "Lets assume that the car from our last example magically became an electric vehicle. Electric vehicles usually take a lot of time charging their batteries after a trip. They have to wait until their battery is charged before they can start driving again.\n"
   ]
  },
  {
   "cell_type": "markdown",
   "id": "98ef6a9f",
   "metadata": {
    "slideshow": {
     "slide_type": "slide"
    }
   },
   "source": [
    "We can model this with an additional charge() process for our car. Therefore, we refactor our car to be a class with two process methods: `park_and_drive()` (which is the original process function) and `charge()`:\n"
   ]
  },
  {
   "cell_type": "code",
   "execution_count": 31,
   "id": "8aed544c",
   "metadata": {
    "slideshow": {
     "slide_type": "fragment"
    }
   },
   "outputs": [],
   "source": [
    "class Car:\n",
    "    def __init__(self, env):\n",
    "        self.env = env\n",
    "        # Start the run process everytime an instance is created.\n",
    "        self.action = env.process(self.park_and_drive())\n",
    "\n",
    "    def park_and_drive(self):\n",
    "        while True:\n",
    "            print('Start parking and charging at %d' % self.env.now)\n",
    "            charge_duration = 5\n",
    "            # We yield the process that process() returns\n",
    "            # to wait for it to finish\n",
    "            yield self.env.process(self.charge(charge_duration))\n",
    "\n",
    "            # The charge process has finished and\n",
    "            # we can start driving again.\n",
    "            print('Start driving at %d' % self.env.now)\n",
    "            trip_duration = 2\n",
    "            yield self.env.timeout(trip_duration)\n",
    "\n",
    "    def charge(self, duration):\n",
    "        yield self.env.timeout(duration)"
   ]
  },
  {
   "cell_type": "markdown",
   "id": "09a1fa98",
   "metadata": {
    "slideshow": {
     "slide_type": "skip"
    }
   },
   "source": [
    "The run process is automatically started when Car is instantiated. A new charge process is started every time the vehicle starts parking. By yielding the Process instance that Environment.process() returns, the run process starts waiting for it to finish."
   ]
  },
  {
   "cell_type": "markdown",
   "id": "ed2e4773",
   "metadata": {
    "slideshow": {
     "slide_type": "slide"
    }
   },
   "source": [
    "Starting the simulation is straightforward again: We create an environment, one (or more) cars and finally call run()."
   ]
  },
  {
   "cell_type": "code",
   "execution_count": 32,
   "id": "df684112",
   "metadata": {
    "slideshow": {
     "slide_type": "fragment"
    }
   },
   "outputs": [
    {
     "name": "stdout",
     "output_type": "stream",
     "text": [
      "Start parking and charging at 0\n",
      "Start driving at 5\n",
      "Start parking and charging at 7\n",
      "Start driving at 12\n",
      "Start parking and charging at 14\n",
      "Start driving at 19\n",
      "Start parking and charging at 21\n",
      "Start driving at 26\n",
      "Start parking and charging at 28\n"
     ]
    }
   ],
   "source": [
    "env2 = simpy.Environment()\n",
    "car = Car(env2)\n",
    "#car2 = Car(env2)\n",
    "env2.run(until=33)"
   ]
  },
  {
   "cell_type": "markdown",
   "id": "86c7353a",
   "metadata": {
    "slideshow": {
     "slide_type": "slide"
    }
   },
   "source": [
    "__Control questions (now it's your turn):__\n",
    "* Alter the charging duration to 8 timesteps.\n",
    "* Flip the order of the charging and the driving, so that the car first drives and thereafter charges.\n",
    "* Implement the driving activity as a third process method."
   ]
  },
  {
   "cell_type": "markdown",
   "id": "09b68eeb",
   "metadata": {
    "slideshow": {
     "slide_type": "slide"
    }
   },
   "source": [
    "## Shared Resources"
   ]
  },
  {
   "cell_type": "markdown",
   "id": "e2ab998d",
   "metadata": {
    "slideshow": {
     "slide_type": "fragment"
    }
   },
   "source": [
    "SimPy offers three types of resources that help you modeling problems, where multiple processes want to use a resource of limited capacity (e.g., cars at a fuel station with a limited number of fuel pumps) or classical producer-consumer problems."
   ]
  },
  {
   "cell_type": "markdown",
   "id": "a2e1e439",
   "metadata": {
    "slideshow": {
     "slide_type": "slide"
    }
   },
   "source": [
    "**Basic Resource Usage**\n",
    "\n",
    "We’ll slightly modify our electric vehicle process car that we introduced in the last sections.\n",
    "\n",
    "The car will now drive to a battery charging station (BCS) and request one of its two charging spots. If both of these spots are currently in use, it waits until one of them becomes available again. It then starts charging its battery and leaves the station afterwards:"
   ]
  },
  {
   "cell_type": "code",
   "execution_count": 34,
   "id": "3f455e83",
   "metadata": {},
   "outputs": [],
   "source": [
    "class Car:\n",
    "    def __init__(self, env, name):\n",
    "        self.env = env\n",
    "        self.name = name\n",
    "        \n",
    "    def drive(self, bcs, driving_time, charge_duration):\n",
    "        \n",
    "        # Simulate driving to the BCS\n",
    "        yield self.env.timeout(driving_time)\n",
    "\n",
    "          # Request one of its charging spots\n",
    "        print('%s arriving at the charging station at %d' % (self.name, self.env.now))\n",
    "        \n",
    "        with bcs.request() as req:\n",
    "                yield req #wait until a spot is available\n",
    "\n",
    "                # Charge the battery\n",
    "                print('%s starting to charge at %s' % (self.name, self.env.now))\n",
    "\n",
    "                yield self.env.timeout(charge_duration)\n",
    "                print('%s leaving the bcs at %s' % (self.name, self.env.now))"
   ]
  },
  {
   "cell_type": "markdown",
   "id": "01ee771e",
   "metadata": {
    "slideshow": {
     "slide_type": "slide"
    }
   },
   "source": [
    "The resource’s request() method generates an event that lets you wait until the resource becomes available again. If you are resumed, you “own” the resource until you release it. \n",
    "\n",
    "A resource needs a reference to an Environment and a capacity when it is created:"
   ]
  },
  {
   "cell_type": "code",
   "execution_count": 49,
   "id": "2a235b6f",
   "metadata": {
    "slideshow": {
     "slide_type": "fragment"
    }
   },
   "outputs": [],
   "source": [
    "env3 = simpy.Environment()\n",
    "bcs = simpy.Resource(env3, capacity=2)"
   ]
  },
  {
   "cell_type": "code",
   "execution_count": 52,
   "id": "06bfb647",
   "metadata": {
    "slideshow": {
     "slide_type": "fragment"
    }
   },
   "outputs": [],
   "source": [
    "for i in range(10):\n",
    "    car = Car(env=env3, name='Car %d' % i)\n",
    "    env3.process(car.drive(bcs = bcs, driving_time = i*2, charge_duration =  5))"
   ]
  },
  {
   "cell_type": "markdown",
   "id": "9e2a993a",
   "metadata": {
    "slideshow": {
     "slide_type": "skip"
    }
   },
   "source": [
    "Finally, we can start the simulation. Since the car processes all terminate on their own in this simulation, we don’t need to specify an until time—the simulation will automatically stop when there are no more events left:"
   ]
  },
  {
   "cell_type": "code",
   "execution_count": 53,
   "id": "a41b7aba",
   "metadata": {
    "scrolled": true,
    "slideshow": {
     "slide_type": "fragment"
    }
   },
   "outputs": [
    {
     "name": "stdout",
     "output_type": "stream",
     "text": [
      "Car 0 arriving at the charging station at 27\n",
      "Car 0 starting to charge at 27\n",
      "Car 1 arriving at the charging station at 29\n",
      "Car 1 starting to charge at 29\n",
      "Car 2 arriving at the charging station at 31\n",
      "Car 0 leaving the bcs at 32\n",
      "Car 2 starting to charge at 32\n",
      "Car 3 arriving at the charging station at 33\n",
      "Car 1 leaving the bcs at 34\n",
      "Car 3 starting to charge at 34\n",
      "Car 4 arriving at the charging station at 35\n",
      "Car 5 arriving at the charging station at 37\n",
      "Car 2 leaving the bcs at 37\n",
      "Car 4 starting to charge at 37\n",
      "Car 6 arriving at the charging station at 39\n",
      "Car 3 leaving the bcs at 39\n",
      "Car 5 starting to charge at 39\n",
      "Car 7 arriving at the charging station at 41\n",
      "Car 4 leaving the bcs at 42\n",
      "Car 6 starting to charge at 42\n",
      "Car 8 arriving at the charging station at 43\n",
      "Car 5 leaving the bcs at 44\n",
      "Car 7 starting to charge at 44\n",
      "Car 9 arriving at the charging station at 45\n",
      "Car 6 leaving the bcs at 47\n",
      "Car 8 starting to charge at 47\n",
      "Car 7 leaving the bcs at 49\n",
      "Car 9 starting to charge at 49\n",
      "Car 8 leaving the bcs at 52\n",
      "Car 9 leaving the bcs at 54\n"
     ]
    }
   ],
   "source": [
    "env3.run()"
   ]
  },
  {
   "cell_type": "markdown",
   "id": "5499e689",
   "metadata": {
    "slideshow": {
     "slide_type": "slide"
    }
   },
   "source": [
    "If you use the resource with the with statement as shown above, the resource is automatically being released. If you call request() without `with`, you are responsible to call release() once you are done using the resource.\n",
    "\n",
    "When you release a resource, the next waiting process is resumed and now “owns” one of the resource’s slots. The basic Resource sorts waiting processes in a FIFO (first in—first out) way."
   ]
  },
  {
   "cell_type": "markdown",
   "id": "816fb8c0",
   "metadata": {
    "slideshow": {
     "slide_type": "slide"
    }
   },
   "source": [
    "__Control questions (now it's your turn):__\n",
    "* Set the capacity of the resource to 3 and re-run the simulation.\n",
    "* Create more cars so that a queue develops at the charging station. \n",
    "* Try to model the resource in the car process without using the `with` statement. Don't forget to release the resource."
   ]
  },
  {
   "cell_type": "markdown",
   "id": "5642b9fa",
   "metadata": {
    "slideshow": {
     "slide_type": "slide"
    }
   },
   "source": [
    "<img src=\"images/d3.png\" style=\"width:50%; float:center;\" />\n"
   ]
  }
 ],
 "metadata": {
  "celltoolbar": "Slideshow",
  "kernelspec": {
   "display_name": "Python 3 (ipykernel)",
   "language": "python",
   "name": "python3"
  },
  "language_info": {
   "codemirror_mode": {
    "name": "ipython",
    "version": 3
   },
   "file_extension": ".py",
   "mimetype": "text/x-python",
   "name": "python",
   "nbconvert_exporter": "python",
   "pygments_lexer": "ipython3",
   "version": "3.9.13"
  },
  "rise": {
   "enable_chalkboard": false,
   "overlay": "<div class='background'></div><div class='header'>Simulation for Decision Making </br> (S4DM) </div><div class='logo'><img src='images/d3logo.png'></div><div class='bar'></div>",
   "scroll": true,
   "slideNumber": "h.v"
  }
 },
 "nbformat": 4,
 "nbformat_minor": 5
}
